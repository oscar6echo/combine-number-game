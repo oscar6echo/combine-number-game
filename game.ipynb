{
 "cells": [
  {
   "cell_type": "code",
   "execution_count": 1,
   "metadata": {},
   "outputs": [],
   "source": [
    "%load_ext autoreload\n",
    "%autoreload 2\n",
    "%matplotlib inline"
   ]
  },
  {
   "cell_type": "markdown",
   "metadata": {},
   "source": [
    "## Combine-numbers game aka \"Le Compte est Bon\"\n",
    "+ See [https://github.com/oscar6echo/combine-number-game](https://github.com/oscar6echo/combine-number-game)"
   ]
  },
  {
   "cell_type": "code",
   "execution_count": 2,
   "metadata": {},
   "outputs": [],
   "source": [
    "from combine_number_game import Solver"
   ]
  },
  {
   "cell_type": "code",
   "execution_count": 3,
   "metadata": {},
   "outputs": [
    {
     "name": "stdout",
     "output_type": "stream",
     "text": [
      "#\tparenthesis\t\tpostfix\n",
      "---------------------------------------------\n",
      "0\t(xo(xo(xo(xo(xox)))))\txxxxxxooooo\n",
      "1\t(xo(xo(xo((xox)ox))))\txxxxxoxoooo\n",
      "2\t(xo(xo((xox)o(xox))))\txxxxoxxoooo\n",
      "3\t(xo(xo((xo(xox))ox)))\txxxxxooxooo\n",
      "4\t(xo(xo(((xox)ox)ox)))\txxxxoxoxooo\n",
      "5\t(xo((xox)o(xo(xox))))\txxxoxxxoooo\n",
      "6\t(xo((xox)o((xox)ox)))\txxxoxxoxooo\n",
      "7\t(xo((xo(xox))o(xox)))\txxxxooxxooo\n",
      "8\t(xo(((xox)ox)o(xox)))\txxxoxoxxooo\n",
      "9\t(xo((xo(xo(xox)))ox))\txxxxxoooxoo\n",
      "10\t(xo((xo((xox)ox))ox))\txxxxoxooxoo\n",
      "11\t(xo(((xox)o(xox))ox))\txxxoxxooxoo\n",
      "12\t(xo(((xo(xox))ox)ox))\txxxxooxoxoo\n",
      "13\t(xo((((xox)ox)ox)ox))\txxxoxoxoxoo\n",
      "14\t((xox)o(xo(xo(xox))))\txxoxxxxoooo\n",
      "15\t((xox)o(xo((xox)ox)))\txxoxxxoxooo\n",
      "16\t((xox)o((xox)o(xox)))\txxoxxoxxooo\n",
      "17\t((xox)o((xo(xox))ox))\txxoxxxooxoo\n",
      "18\t((xox)o(((xox)ox)ox))\txxoxxoxoxoo\n",
      "19\t((xo(xox))o(xo(xox)))\txxxooxxxooo\n",
      "20\t((xo(xox))o((xox)ox))\txxxooxxoxoo\n",
      "21\t(((xox)ox)o(xo(xox)))\txxoxoxxxooo\n",
      "22\t(((xox)ox)o((xox)ox))\txxoxoxxoxoo\n",
      "23\t((xo(xo(xox)))o(xox))\txxxxoooxxoo\n",
      "24\t((xo((xox)ox))o(xox))\txxxoxooxxoo\n",
      "25\t(((xox)o(xox))o(xox))\txxoxxooxxoo\n",
      "26\t(((xo(xox))ox)o(xox))\txxxooxoxxoo\n",
      "27\t((((xox)ox)ox)o(xox))\txxoxoxoxxoo\n",
      "28\t((xo(xo(xo(xox))))ox)\txxxxxooooxo\n",
      "29\t((xo(xo((xox)ox)))ox)\txxxxoxoooxo\n",
      "30\t((xo((xox)o(xox)))ox)\txxxoxxoooxo\n",
      "31\t((xo((xo(xox))ox))ox)\txxxxooxooxo\n",
      "32\t((xo(((xox)ox)ox))ox)\txxxoxoxooxo\n",
      "33\t(((xox)o(xo(xox)))ox)\txxoxxxoooxo\n",
      "34\t(((xox)o((xox)ox))ox)\txxoxxoxooxo\n",
      "35\t(((xo(xox))o(xox))ox)\txxxooxxooxo\n",
      "36\t((((xox)ox)o(xox))ox)\txxoxoxxooxo\n",
      "37\t(((xo(xo(xox)))ox)ox)\txxxxoooxoxo\n",
      "38\t(((xo((xox)ox))ox)ox)\txxxoxooxoxo\n",
      "39\t((((xox)o(xox))ox)ox)\txxoxxooxoxo\n",
      "40\t((((xo(xox))ox)ox)ox)\txxxooxoxoxo\n",
      "41\t(((((xox)ox)ox)ox)ox)\txxoxoxoxoxo\n"
     ]
    }
   ],
   "source": [
    "s = Solver(\n",
    "    target=335,\n",
    "    numbers=[3, 3, 4, 6, 7, 9],\n",
    "    verbose=False\n",
    ")\n",
    "s.show_patterns()"
   ]
  },
  {
   "cell_type": "code",
   "execution_count": null,
   "metadata": {},
   "outputs": [
    {
     "name": "stdout",
     "output_type": "stream",
     "text": [
      "nb binary trees = 42\n",
      "0 1 2 3 4 5 6 7 8 9 10 11 12 13 14 15 16 17 18 19 20 21 22 23 24 25 26 27 28 29 30 31 32 33 34 35 "
     ]
    }
   ],
   "source": [
    "s.solve(\n",
    "    #n_max_per_pattern=int(1e5),\n",
    "    n_max_per_pattern=None,\n",
    "    stop_at_solution=None\n",
    ")\n",
    "s.show_results()"
   ]
  },
  {
   "cell_type": "code",
   "execution_count": null,
   "metadata": {},
   "outputs": [],
   "source": [
    "s.inspect_solution(0)"
   ]
  },
  {
   "cell_type": "code",
   "execution_count": null,
   "metadata": {},
   "outputs": [],
   "source": [
    "s.stats_results()"
   ]
  },
  {
   "cell_type": "code",
   "execution_count": null,
   "metadata": {},
   "outputs": [],
   "source": [
    "s.df_res.info()\n",
    "s.df_res"
   ]
  },
  {
   "cell_type": "code",
   "execution_count": null,
   "metadata": {},
   "outputs": [],
   "source": [
    "s.store()"
   ]
  },
  {
   "cell_type": "code",
   "execution_count": null,
   "metadata": {},
   "outputs": [],
   "source": []
  },
  {
   "cell_type": "markdown",
   "metadata": {},
   "source": [
    "df = s.df_res.copy()\n",
    "df['abs_miss'] = df['miss'].abs()\n",
    "df['seq length'] = df['sequence'].apply(lambda x: len(x))\n",
    "df = df.sort_values(['seq length', 'abs_miss']).reset_index(drop=True)\n",
    "df = df.drop('abs_miss', axis=1)\n",
    "df    "
   ]
  }
 ],
 "metadata": {
  "kernelspec": {
   "display_name": "work",
   "language": "python",
   "name": "work"
  },
  "language_info": {
   "codemirror_mode": {
    "name": "ipython",
    "version": 3
   },
   "file_extension": ".py",
   "mimetype": "text/x-python",
   "name": "python",
   "nbconvert_exporter": "python",
   "pygments_lexer": "ipython3",
   "version": "3.7.2"
  }
 },
 "nbformat": 4,
 "nbformat_minor": 4
}
